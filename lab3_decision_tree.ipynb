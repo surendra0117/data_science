{
  "nbformat": 4,
  "nbformat_minor": 0,
  "metadata": {
    "colab": {
      "name": "lab_3_decision_tree.ipynb",
      "provenance": [],
      "collapsed_sections": []
    },
    "kernelspec": {
      "name": "python3",
      "display_name": "Python 3"
    }
  },
  "cells": [
    {
      "cell_type": "code",
      "metadata": {
        "id": "qifTLSFDiFrs"
      },
      "source": [
        "import pandas as pd"
      ],
      "execution_count": null,
      "outputs": []
    },
    {
      "cell_type": "code",
      "metadata": {
        "id": "j5GyTGT4iU-5"
      },
      "source": [
        "data = pd.read_csv('sample_data/heart.csv')"
      ],
      "execution_count": null,
      "outputs": []
    },
    {
      "cell_type": "code",
      "metadata": {
        "colab": {
          "base_uri": "https://localhost:8080/",
          "height": 97
        },
        "id": "clHEQHP9fPSz",
        "outputId": "fa6f7096-98ce-4bdc-d5d6-e9fd8fb107d7"
      },
      "source": [
        "data.head(1)"
      ],
      "execution_count": null,
      "outputs": [
        {
          "output_type": "execute_result",
          "data": {
            "text/html": [
              "<div>\n",
              "<style scoped>\n",
              "    .dataframe tbody tr th:only-of-type {\n",
              "        vertical-align: middle;\n",
              "    }\n",
              "\n",
              "    .dataframe tbody tr th {\n",
              "        vertical-align: top;\n",
              "    }\n",
              "\n",
              "    .dataframe thead th {\n",
              "        text-align: right;\n",
              "    }\n",
              "</style>\n",
              "<table border=\"1\" class=\"dataframe\">\n",
              "  <thead>\n",
              "    <tr style=\"text-align: right;\">\n",
              "      <th></th>\n",
              "      <th>age</th>\n",
              "      <th>anaemia</th>\n",
              "      <th>creatinine_phosphokinase</th>\n",
              "      <th>diabetes</th>\n",
              "      <th>ejection_fraction</th>\n",
              "      <th>high_blood_pressure</th>\n",
              "      <th>platelets</th>\n",
              "      <th>serum_creatinine</th>\n",
              "      <th>serum_sodium</th>\n",
              "      <th>sex</th>\n",
              "      <th>smoking</th>\n",
              "      <th>time</th>\n",
              "      <th>DEATH_EVENT</th>\n",
              "    </tr>\n",
              "  </thead>\n",
              "  <tbody>\n",
              "    <tr>\n",
              "      <th>0</th>\n",
              "      <td>75.0</td>\n",
              "      <td>0</td>\n",
              "      <td>582</td>\n",
              "      <td>0</td>\n",
              "      <td>20</td>\n",
              "      <td>1</td>\n",
              "      <td>265000.0</td>\n",
              "      <td>1.9</td>\n",
              "      <td>130</td>\n",
              "      <td>1</td>\n",
              "      <td>0</td>\n",
              "      <td>4</td>\n",
              "      <td>1</td>\n",
              "    </tr>\n",
              "  </tbody>\n",
              "</table>\n",
              "</div>"
            ],
            "text/plain": [
              "    age  anaemia  creatinine_phosphokinase  ...  smoking  time  DEATH_EVENT\n",
              "0  75.0        0                       582  ...        0     4            1\n",
              "\n",
              "[1 rows x 13 columns]"
            ]
          },
          "metadata": {
            "tags": []
          },
          "execution_count": 3
        }
      ]
    },
    {
      "cell_type": "code",
      "metadata": {
        "id": "MDdy_X1NFWjk"
      },
      "source": [
        "processed_data = pd.DataFrame()"
      ],
      "execution_count": null,
      "outputs": []
    },
    {
      "cell_type": "code",
      "metadata": {
        "id": "QxRtRwZdi8zk"
      },
      "source": [
        "processed_data['age'] = data['age'].apply(lambda age : 'valid' if (1 < age and age <= 75) else 'invalid')\n",
        "processed_data['anaemia'] = data['anaemia'].apply(lambda disease : 'present' if disease == 1 else 'absent')\n",
        "processed_data['diabetes'] = data['diabetes'].apply(lambda disease : 'present' if disease == 1 else 'absent')\n",
        "processed_data['high_blood_pressure'] = data['high_blood_pressure'].apply(lambda disease : 'present' if disease == 1 else 'absent')\n",
        "processed_data['sex'] = data['sex'].apply(lambda gender : 'male' if gender == 1 else 'female')\n",
        "processed_data['smoking'] = data['smoking'].apply(lambda person : 'smoker' if person == 1 else 'nonSmoker')\n",
        "processed_data['DEATH_EVENT'] = data['DEATH_EVENT'].apply(lambda event : 'yes' if event == 1 else 'no')"
      ],
      "execution_count": null,
      "outputs": []
    },
    {
      "cell_type": "code",
      "metadata": {
        "id": "GAINUhxbrIOy"
      },
      "source": [
        "trainingData = processed_data[:50]\n",
        "testingData = processed_data[50:]"
      ],
      "execution_count": null,
      "outputs": []
    },
    {
      "cell_type": "code",
      "metadata": {
        "id": "2E9jUMBB2kZQ"
      },
      "source": [
        "from copy import deepcopy"
      ],
      "execution_count": null,
      "outputs": []
    },
    {
      "cell_type": "code",
      "metadata": {
        "id": "KRPTQ5oE3Bq-"
      },
      "source": [
        "# defining node in the decision tree\n",
        "class Node:\n",
        "  def __init__(self, name = '', parent = None, children = {}, classficationResult = False, leafNode = False):\n",
        "    self.name = deepcopy(name)\n",
        "    self.parent = parent\n",
        "    self.children = deepcopy(children)\n",
        "    self.classficationResult = classficationResult"
      ],
      "execution_count": null,
      "outputs": []
    },
    {
      "cell_type": "code",
      "metadata": {
        "id": "ndbexYhWR2Je"
      },
      "source": [
        "def calGiniImpurity(yesCnt, noCnt):\n",
        "  total = yesCnt+noCnt\n",
        "  pYes = yesCnt/total\n",
        "  pNo = noCnt/total\n",
        "  impurity = 1 - (pYes*pYes) - (pNo*pNo)\n",
        "  return impurity"
      ],
      "execution_count": null,
      "outputs": []
    },
    {
      "cell_type": "code",
      "metadata": {
        "id": "PHKCVEy8KTLG"
      },
      "source": [
        "def findFeatureMetaData(featureData, output):\n",
        "\n",
        "  featureValueMetaData = {}\n",
        "\n",
        "  for featureValue, outputVal in zip(featureData, output):\n",
        "    if featureValue in featureValueMetaData:\n",
        "      featureValueMetaData[featureValue][\"cnt\"] += 1\n",
        "      featureValueMetaData[featureValue][\"yes\"] += (1 if outputVal == 'yes' else 0)\n",
        "      featureValueMetaData[featureValue][\"no\"] += (1 if outputVal == 'no' else 0)\n",
        "\n",
        "    else:\n",
        "      featureValueMetaData[featureValue] = {\n",
        "          \"cnt\" : 1,\n",
        "          \"yes\" : (1 if outputVal == 'yes' else 0),\n",
        "          \"no\" : (1 if outputVal == 'no' else 0)\n",
        "      }\n",
        "    \n",
        "  return featureValueMetaData"
      ],
      "execution_count": null,
      "outputs": []
    },
    {
      "cell_type": "code",
      "metadata": {
        "id": "oXmMv-2Rg3m1"
      },
      "source": [
        "def calWeightedAvgGiniImpurity(featureMetaData):\n",
        "  total = 0\n",
        "\n",
        "  weightedAvgGiniImpurity = 0\n",
        "\n",
        "  for k, v in featureMetaData.items():\n",
        "    giniImpurity = calGiniImpurity(v['yes'], v['no'])\n",
        "    weightedAvgGiniImpurity += giniImpurity * v['cnt']\n",
        "\n",
        "    total += v['cnt']\n",
        "  \n",
        "  weightedAvgGiniImpurity /= total\n",
        "\n",
        "  return weightedAvgGiniImpurity"
      ],
      "execution_count": null,
      "outputs": []
    },
    {
      "cell_type": "code",
      "metadata": {
        "id": "aeyPiag5F06U"
      },
      "source": [
        "def buildTree(trainingData, root):\n",
        "\n",
        "  dataCols = [col for col in trainingData.columns if col != 'DEATH_EVENT']\n",
        "\n",
        "  if len(dataCols) == 0:\n",
        "    return\n",
        "\n",
        "  data = trainingData[dataCols]\n",
        "  output = trainingData['DEATH_EVENT']\n",
        "\n",
        "  totalYesCnt = 0\n",
        "  totalNoCnt = 0\n",
        "\n",
        "  for outputVal in output:\n",
        "    if outputVal == 'yes':\n",
        "      totalYesCnt += 1\n",
        "    else:\n",
        "      totalNoCnt += 1\n",
        "\n",
        "  totalImpurity = calGiniImpurity(totalYesCnt, totalNoCnt)\n",
        "\n",
        "  minGiniImpurity = totalImpurity\n",
        "  bestFeatureName = None\n",
        "  bestFeatureMetaData = None\n",
        "\n",
        "  # 1) cal gini impurity for each column\n",
        "  # 2) cal gini impurity for each distinct attribute value in \n",
        "  #    a col and then take the weighted average to calculate the gini \n",
        "  #    impurity for the whole col\n",
        "  for col in data.columns:\n",
        "    featureMetaData = findFeatureMetaData(data[col], output)\n",
        "    weightedAvgGiniImpurity = calWeightedAvgGiniImpurity(featureMetaData)\n",
        "    if weightedAvgGiniImpurity < minGiniImpurity:\n",
        "      minGiniImpurity = weightedAvgGiniImpurity\n",
        "      bestFeatureName = col\n",
        "      bestFeatureMetaData = featureMetaData\n",
        "\n",
        "  if bestFeatureName == None:\n",
        "    # make it a leaf node with proper classification\n",
        "    yesSeries = trainingData[output == 'yes']['DEATH_EVENT'].value_counts()\n",
        "    noSeries = trainingData[output == 'no']['DEATH_EVENT'].value_counts()\n",
        "    yesCnt = yesSeries['yes'] if len(yesSeries) > 0 else 0\n",
        "    noCnt = noSeries['no'] if len(noSeries) > 0 else 0\n",
        "    root.classficationResult = (yesCnt >= noCnt)\n",
        "  else:\n",
        "    root.name = bestFeatureName\n",
        "    for featureValue, metaData in bestFeatureMetaData.items():\n",
        "      reducedTrainingData = trainingData[trainingData[bestFeatureName] == featureValue]\n",
        "      reducedTrainingData = reducedTrainingData.loc[:, trainingData.columns != bestFeatureName]\n",
        "      root.children[featureValue] = Node(parent=root)\n",
        "      buildTree(reducedTrainingData, root.children[featureValue])"
      ],
      "execution_count": null,
      "outputs": []
    },
    {
      "cell_type": "code",
      "metadata": {
        "id": "EQLcQ7Um4ykt"
      },
      "source": [
        "root = Node()\n",
        "buildTree(trainingData, root)"
      ],
      "execution_count": null,
      "outputs": []
    },
    {
      "cell_type": "code",
      "metadata": {
        "id": "XR9Lkp2ZLU2V"
      },
      "source": [
        "def printDecisionTree(root, level):\n",
        "  if root == None:\n",
        "    return\n",
        "  print(level, root.name, root.children.keys())\n",
        "  for k, v in root.children.items():\n",
        "    printDecisionTree(v, level+1)"
      ],
      "execution_count": null,
      "outputs": []
    },
    {
      "cell_type": "code",
      "metadata": {
        "colab": {
          "base_uri": "https://localhost:8080/"
        },
        "id": "1PmFq_0llWRy",
        "outputId": "119adf24-4073-4833-c1db-047d688ef170"
      },
      "source": [
        "level = 0\n",
        "printDecisionTree(root, level)"
      ],
      "execution_count": null,
      "outputs": [
        {
          "output_type": "stream",
          "text": [
            "0 smoking dict_keys(['nonSmoker', 'smoker'])\n",
            "1 age dict_keys(['valid', 'invalid'])\n",
            "2 diabetes dict_keys(['absent', 'present'])\n",
            "3 sex dict_keys(['male', 'female'])\n",
            "4  dict_keys([])\n",
            "4 high_blood_pressure dict_keys(['absent', 'present'])\n",
            "5  dict_keys([])\n",
            "5  dict_keys([])\n",
            "3 sex dict_keys(['female', 'male'])\n",
            "4 high_blood_pressure dict_keys(['absent', 'present'])\n",
            "5 anaemia dict_keys(['present', 'absent'])\n",
            "6  dict_keys([])\n",
            "6  dict_keys([])\n",
            "5  dict_keys([])\n",
            "4 high_blood_pressure dict_keys(['absent', 'present'])\n",
            "5  dict_keys([])\n",
            "5  dict_keys([])\n",
            "2  dict_keys([])\n",
            "1  dict_keys([])\n"
          ],
          "name": "stdout"
        }
      ]
    },
    {
      "cell_type": "code",
      "metadata": {
        "id": "qRWF-qs2585W"
      },
      "source": [
        "def compare(root, example):\n",
        "  # a root with no name indicates it is leaf node\n",
        "  if(root.name == ''):\n",
        "    return root.classficationResult\n",
        "  return compare(root.children[example[root.name]], example)"
      ],
      "execution_count": null,
      "outputs": []
    },
    {
      "cell_type": "code",
      "metadata": {
        "id": "x8DSn-f95nfN"
      },
      "source": [
        "def test(root, testingData):\n",
        "  satisfyCnt = 0\n",
        "  for idx, example in testingData.iterrows():\n",
        "    result = (testingData.iloc[0]['DEATH_EVENT'] == 'yes')\n",
        "    satisfyCnt += int(compare(root, example) == result)\n",
        "  total = len(testingData)\n",
        "  accuracy = (satisfyCnt/total)*100\n",
        "  return accuracy"
      ],
      "execution_count": null,
      "outputs": []
    },
    {
      "cell_type": "code",
      "metadata": {
        "id": "S7uSl3-j9TaB"
      },
      "source": [
        "accuracy = test(root, testingData)"
      ],
      "execution_count": null,
      "outputs": []
    },
    {
      "cell_type": "code",
      "metadata": {
        "colab": {
          "base_uri": "https://localhost:8080/"
        },
        "id": "OcQI9RZ8BP_M",
        "outputId": "3d53b21f-e6b8-4fe3-8079-356b81189a9d"
      },
      "source": [
        "accuracy"
      ],
      "execution_count": null,
      "outputs": [
        {
          "output_type": "execute_result",
          "data": {
            "text/plain": [
              "72.28915662650603"
            ]
          },
          "metadata": {
            "tags": []
          },
          "execution_count": 19
        }
      ]
    }
  ]
}