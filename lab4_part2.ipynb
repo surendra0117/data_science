{
  "nbformat": 4,
  "nbformat_minor": 0,
  "metadata": {
    "colab": {
      "name": "lab4_part2.ipynb",
      "provenance": [],
      "collapsed_sections": []
    },
    "kernelspec": {
      "name": "python3",
      "display_name": "Python 3"
    }
  },
  "cells": [
    {
      "cell_type": "markdown",
      "metadata": {
        "id": "uEnR7vOnc4qf"
      },
      "source": [
        "**Multivariate Linear regression using gradient descent algorithm**"
      ]
    },
    {
      "cell_type": "code",
      "metadata": {
        "id": "t7aSHo07wf-v"
      },
      "source": [
        "import pandas as pd\n",
        "import matplotlib.pyplot as plt\n",
        "import matplotlib.pyplot as plt\n",
        "plt.rcParams[\"figure.figsize\"] = (10, 10)"
      ],
      "execution_count": null,
      "outputs": []
    },
    {
      "cell_type": "code",
      "metadata": {
        "id": "qDHBuD7ldBoO"
      },
      "source": [
        "weatherHistoryDataSet = pd.read_csv('sample_data/weatherHistory.csv')"
      ],
      "execution_count": null,
      "outputs": []
    },
    {
      "cell_type": "code",
      "metadata": {
        "colab": {
          "base_uri": "https://localhost:8080/"
        },
        "id": "HlWiSQ3cdKap",
        "outputId": "13c0d0ab-d017-4000-fe3f-436ba96e4ccf"
      },
      "source": [
        "weatherHistoryDataSet.info()"
      ],
      "execution_count": null,
      "outputs": [
        {
          "output_type": "stream",
          "text": [
            "<class 'pandas.core.frame.DataFrame'>\n",
            "RangeIndex: 96453 entries, 0 to 96452\n",
            "Data columns (total 12 columns):\n",
            " #   Column                    Non-Null Count  Dtype  \n",
            "---  ------                    --------------  -----  \n",
            " 0   Formatted Date            96453 non-null  object \n",
            " 1   Summary                   96453 non-null  object \n",
            " 2   Precip Type               95936 non-null  object \n",
            " 3   Temperature (C)           96453 non-null  float64\n",
            " 4   Apparent Temperature (C)  96453 non-null  float64\n",
            " 5   Humidity                  96453 non-null  float64\n",
            " 6   Wind Speed (km/h)         96453 non-null  float64\n",
            " 7   Wind Bearing (degrees)    96453 non-null  float64\n",
            " 8   Visibility (km)           96453 non-null  float64\n",
            " 9   Loud Cover                96453 non-null  float64\n",
            " 10  Pressure (millibars)      96453 non-null  float64\n",
            " 11  Daily Summary             96453 non-null  object \n",
            "dtypes: float64(8), object(4)\n",
            "memory usage: 8.8+ MB\n"
          ],
          "name": "stdout"
        }
      ]
    },
    {
      "cell_type": "code",
      "metadata": {
        "colab": {
          "base_uri": "https://localhost:8080/",
          "height": 144
        },
        "id": "F4ifbp7TdT0S",
        "outputId": "ff2142bc-d37d-4e16-a09b-84892a8a8565"
      },
      "source": [
        "weatherHistoryDataSet.head(1)"
      ],
      "execution_count": null,
      "outputs": [
        {
          "output_type": "execute_result",
          "data": {
            "text/html": [
              "<div>\n",
              "<style scoped>\n",
              "    .dataframe tbody tr th:only-of-type {\n",
              "        vertical-align: middle;\n",
              "    }\n",
              "\n",
              "    .dataframe tbody tr th {\n",
              "        vertical-align: top;\n",
              "    }\n",
              "\n",
              "    .dataframe thead th {\n",
              "        text-align: right;\n",
              "    }\n",
              "</style>\n",
              "<table border=\"1\" class=\"dataframe\">\n",
              "  <thead>\n",
              "    <tr style=\"text-align: right;\">\n",
              "      <th></th>\n",
              "      <th>Formatted Date</th>\n",
              "      <th>Summary</th>\n",
              "      <th>Precip Type</th>\n",
              "      <th>Temperature (C)</th>\n",
              "      <th>Apparent Temperature (C)</th>\n",
              "      <th>Humidity</th>\n",
              "      <th>Wind Speed (km/h)</th>\n",
              "      <th>Wind Bearing (degrees)</th>\n",
              "      <th>Visibility (km)</th>\n",
              "      <th>Loud Cover</th>\n",
              "      <th>Pressure (millibars)</th>\n",
              "      <th>Daily Summary</th>\n",
              "    </tr>\n",
              "  </thead>\n",
              "  <tbody>\n",
              "    <tr>\n",
              "      <th>0</th>\n",
              "      <td>2006-04-01 00:00:00.000 +0200</td>\n",
              "      <td>Partly Cloudy</td>\n",
              "      <td>rain</td>\n",
              "      <td>9.472222</td>\n",
              "      <td>7.388889</td>\n",
              "      <td>0.89</td>\n",
              "      <td>14.1197</td>\n",
              "      <td>251.0</td>\n",
              "      <td>15.8263</td>\n",
              "      <td>0.0</td>\n",
              "      <td>1015.13</td>\n",
              "      <td>Partly cloudy throughout the day.</td>\n",
              "    </tr>\n",
              "  </tbody>\n",
              "</table>\n",
              "</div>"
            ],
            "text/plain": [
              "                  Formatted Date  ...                      Daily Summary\n",
              "0  2006-04-01 00:00:00.000 +0200  ...  Partly cloudy throughout the day.\n",
              "\n",
              "[1 rows x 12 columns]"
            ]
          },
          "metadata": {
            "tags": []
          },
          "execution_count": 4
        }
      ]
    },
    {
      "cell_type": "code",
      "metadata": {
        "colab": {
          "base_uri": "https://localhost:8080/"
        },
        "id": "9mqujdmGddz9",
        "outputId": "e8da6bc8-8040-4d8d-859a-c0d5c7e16902"
      },
      "source": [
        "print(pd.unique(weatherHistoryDataSet['Precip Type']))"
      ],
      "execution_count": null,
      "outputs": [
        {
          "output_type": "stream",
          "text": [
            "['rain' 'snow' nan]\n"
          ],
          "name": "stdout"
        }
      ]
    },
    {
      "cell_type": "code",
      "metadata": {
        "id": "jyLGsGWTd_fy",
        "colab": {
          "base_uri": "https://localhost:8080/"
        },
        "outputId": "57c89a93-3b27-4986-8c63-0115b8fb3282"
      },
      "source": [
        "weatherHistoryDataSet.columns"
      ],
      "execution_count": null,
      "outputs": [
        {
          "output_type": "execute_result",
          "data": {
            "text/plain": [
              "Index(['Formatted Date', 'Summary', 'Precip Type', 'Temperature (C)',\n",
              "       'Apparent Temperature (C)', 'Humidity', 'Wind Speed (km/h)',\n",
              "       'Wind Bearing (degrees)', 'Visibility (km)', 'Loud Cover',\n",
              "       'Pressure (millibars)', 'Daily Summary'],\n",
              "      dtype='object')"
            ]
          },
          "metadata": {
            "tags": []
          },
          "execution_count": 6
        }
      ]
    },
    {
      "cell_type": "code",
      "metadata": {
        "id": "ovu6mqhhw3hB"
      },
      "source": [
        "weatherHistoryDataSet = weatherHistoryDataSet[['Precip Type', 'Temperature (C)', 'Apparent Temperature (C)', 'Humidity', 'Wind Speed (km/h)', \n",
        "                       'Wind Bearing (degrees)', 'Visibility (km)', 'Loud Cover', 'Pressure (millibars)']]"
      ],
      "execution_count": null,
      "outputs": []
    },
    {
      "cell_type": "markdown",
      "metadata": {
        "id": "DT4t9oI9x_ib"
      },
      "source": [
        "**removing all the nan values**"
      ]
    },
    {
      "cell_type": "code",
      "metadata": {
        "id": "WycMmwk5xOT8"
      },
      "source": [
        "weatherHistoryDataSet.dropna(inplace=True)"
      ],
      "execution_count": null,
      "outputs": []
    },
    {
      "cell_type": "code",
      "metadata": {
        "id": "ro4kfJ4jxwjx"
      },
      "source": [
        "weatherHistoryDataSet['Precip Type'] = weatherHistoryDataSet['Precip Type'].apply(lambda value : 1 if value == 'rain' else 0)"
      ],
      "execution_count": null,
      "outputs": []
    },
    {
      "cell_type": "code",
      "metadata": {
        "colab": {
          "base_uri": "https://localhost:8080/",
          "height": 212
        },
        "id": "M4NRrUPJydMX",
        "outputId": "f4d44359-ea24-4796-dae4-3b172e2834ba"
      },
      "source": [
        "weatherHistoryDataSet.head()"
      ],
      "execution_count": null,
      "outputs": [
        {
          "output_type": "execute_result",
          "data": {
            "text/html": [
              "<div>\n",
              "<style scoped>\n",
              "    .dataframe tbody tr th:only-of-type {\n",
              "        vertical-align: middle;\n",
              "    }\n",
              "\n",
              "    .dataframe tbody tr th {\n",
              "        vertical-align: top;\n",
              "    }\n",
              "\n",
              "    .dataframe thead th {\n",
              "        text-align: right;\n",
              "    }\n",
              "</style>\n",
              "<table border=\"1\" class=\"dataframe\">\n",
              "  <thead>\n",
              "    <tr style=\"text-align: right;\">\n",
              "      <th></th>\n",
              "      <th>Precip Type</th>\n",
              "      <th>Temperature (C)</th>\n",
              "      <th>Apparent Temperature (C)</th>\n",
              "      <th>Humidity</th>\n",
              "      <th>Wind Speed (km/h)</th>\n",
              "      <th>Wind Bearing (degrees)</th>\n",
              "      <th>Visibility (km)</th>\n",
              "      <th>Loud Cover</th>\n",
              "      <th>Pressure (millibars)</th>\n",
              "    </tr>\n",
              "  </thead>\n",
              "  <tbody>\n",
              "    <tr>\n",
              "      <th>0</th>\n",
              "      <td>1</td>\n",
              "      <td>9.472222</td>\n",
              "      <td>7.388889</td>\n",
              "      <td>0.89</td>\n",
              "      <td>14.1197</td>\n",
              "      <td>251.0</td>\n",
              "      <td>15.8263</td>\n",
              "      <td>0.0</td>\n",
              "      <td>1015.13</td>\n",
              "    </tr>\n",
              "    <tr>\n",
              "      <th>1</th>\n",
              "      <td>1</td>\n",
              "      <td>9.355556</td>\n",
              "      <td>7.227778</td>\n",
              "      <td>0.86</td>\n",
              "      <td>14.2646</td>\n",
              "      <td>259.0</td>\n",
              "      <td>15.8263</td>\n",
              "      <td>0.0</td>\n",
              "      <td>1015.63</td>\n",
              "    </tr>\n",
              "    <tr>\n",
              "      <th>2</th>\n",
              "      <td>1</td>\n",
              "      <td>9.377778</td>\n",
              "      <td>9.377778</td>\n",
              "      <td>0.89</td>\n",
              "      <td>3.9284</td>\n",
              "      <td>204.0</td>\n",
              "      <td>14.9569</td>\n",
              "      <td>0.0</td>\n",
              "      <td>1015.94</td>\n",
              "    </tr>\n",
              "    <tr>\n",
              "      <th>3</th>\n",
              "      <td>1</td>\n",
              "      <td>8.288889</td>\n",
              "      <td>5.944444</td>\n",
              "      <td>0.83</td>\n",
              "      <td>14.1036</td>\n",
              "      <td>269.0</td>\n",
              "      <td>15.8263</td>\n",
              "      <td>0.0</td>\n",
              "      <td>1016.41</td>\n",
              "    </tr>\n",
              "    <tr>\n",
              "      <th>4</th>\n",
              "      <td>1</td>\n",
              "      <td>8.755556</td>\n",
              "      <td>6.977778</td>\n",
              "      <td>0.83</td>\n",
              "      <td>11.0446</td>\n",
              "      <td>259.0</td>\n",
              "      <td>15.8263</td>\n",
              "      <td>0.0</td>\n",
              "      <td>1016.51</td>\n",
              "    </tr>\n",
              "  </tbody>\n",
              "</table>\n",
              "</div>"
            ],
            "text/plain": [
              "   Precip Type  Temperature (C)  ...  Loud Cover  Pressure (millibars)\n",
              "0            1         9.472222  ...         0.0               1015.13\n",
              "1            1         9.355556  ...         0.0               1015.63\n",
              "2            1         9.377778  ...         0.0               1015.94\n",
              "3            1         8.288889  ...         0.0               1016.41\n",
              "4            1         8.755556  ...         0.0               1016.51\n",
              "\n",
              "[5 rows x 9 columns]"
            ]
          },
          "metadata": {
            "tags": []
          },
          "execution_count": 10
        }
      ]
    },
    {
      "cell_type": "code",
      "metadata": {
        "id": "FskJeU_Gywj3"
      },
      "source": [
        "# apply the z-score method in Pandas using the .mean() and .std() methods\n",
        "def z_score(df):\n",
        "    # copy the dataframe\n",
        "    df_std = df.copy()\n",
        "    # apply the z-score method\n",
        "    for column in df_std.columns:\n",
        "        df_std[column] = (df_std[column] - df_std[column].mean()) / df_std[column].std()\n",
        "        \n",
        "    return df_std"
      ],
      "execution_count": null,
      "outputs": []
    },
    {
      "cell_type": "markdown",
      "metadata": {
        "id": "H2fNV7ZvzZ-E"
      },
      "source": [
        "Normalizing all the columns"
      ]
    },
    {
      "cell_type": "code",
      "metadata": {
        "colab": {
          "base_uri": "https://localhost:8080/",
          "height": 212
        },
        "id": "yEgw7W4WzMkN",
        "outputId": "7916bd04-31d0-49be-d525-958c9ed8dba9"
      },
      "source": [
        "# call the z_score function\n",
        "weatherHistoryDataSetStandardized = z_score(weatherHistoryDataSet)\n",
        "weatherHistoryDataSetStandardized.head()"
      ],
      "execution_count": null,
      "outputs": [
        {
          "output_type": "execute_result",
          "data": {
            "text/html": [
              "<div>\n",
              "<style scoped>\n",
              "    .dataframe tbody tr th:only-of-type {\n",
              "        vertical-align: middle;\n",
              "    }\n",
              "\n",
              "    .dataframe tbody tr th {\n",
              "        vertical-align: top;\n",
              "    }\n",
              "\n",
              "    .dataframe thead th {\n",
              "        text-align: right;\n",
              "    }\n",
              "</style>\n",
              "<table border=\"1\" class=\"dataframe\">\n",
              "  <thead>\n",
              "    <tr style=\"text-align: right;\">\n",
              "      <th></th>\n",
              "      <th>Precip Type</th>\n",
              "      <th>Temperature (C)</th>\n",
              "      <th>Apparent Temperature (C)</th>\n",
              "      <th>Humidity</th>\n",
              "      <th>Wind Speed (km/h)</th>\n",
              "      <th>Wind Bearing (degrees)</th>\n",
              "      <th>Visibility (km)</th>\n",
              "      <th>Loud Cover</th>\n",
              "      <th>Pressure (millibars)</th>\n",
              "    </tr>\n",
              "  </thead>\n",
              "  <tbody>\n",
              "    <tr>\n",
              "      <th>0</th>\n",
              "      <td>0.354529</td>\n",
              "      <td>-0.257950</td>\n",
              "      <td>-0.324100</td>\n",
              "      <td>0.792744</td>\n",
              "      <td>0.478962</td>\n",
              "      <td>0.591154</td>\n",
              "      <td>1.309101</td>\n",
              "      <td>NaN</td>\n",
              "      <td>0.102151</td>\n",
              "    </tr>\n",
              "    <tr>\n",
              "      <th>1</th>\n",
              "      <td>0.354529</td>\n",
              "      <td>-0.270140</td>\n",
              "      <td>-0.339132</td>\n",
              "      <td>0.639467</td>\n",
              "      <td>0.499899</td>\n",
              "      <td>0.665652</td>\n",
              "      <td>1.309101</td>\n",
              "      <td>NaN</td>\n",
              "      <td>0.106414</td>\n",
              "    </tr>\n",
              "    <tr>\n",
              "      <th>2</th>\n",
              "      <td>0.354529</td>\n",
              "      <td>-0.267818</td>\n",
              "      <td>-0.138531</td>\n",
              "      <td>0.792744</td>\n",
              "      <td>-0.993615</td>\n",
              "      <td>0.153477</td>\n",
              "      <td>1.100800</td>\n",
              "      <td>NaN</td>\n",
              "      <td>0.109058</td>\n",
              "    </tr>\n",
              "    <tr>\n",
              "      <th>3</th>\n",
              "      <td>0.354529</td>\n",
              "      <td>-0.381592</td>\n",
              "      <td>-0.458870</td>\n",
              "      <td>0.486190</td>\n",
              "      <td>0.476635</td>\n",
              "      <td>0.758774</td>\n",
              "      <td>1.309101</td>\n",
              "      <td>NaN</td>\n",
              "      <td>0.113065</td>\n",
              "    </tr>\n",
              "    <tr>\n",
              "      <th>4</th>\n",
              "      <td>0.354529</td>\n",
              "      <td>-0.332831</td>\n",
              "      <td>-0.362458</td>\n",
              "      <td>0.486190</td>\n",
              "      <td>0.034630</td>\n",
              "      <td>0.665652</td>\n",
              "      <td>1.309101</td>\n",
              "      <td>NaN</td>\n",
              "      <td>0.113918</td>\n",
              "    </tr>\n",
              "  </tbody>\n",
              "</table>\n",
              "</div>"
            ],
            "text/plain": [
              "   Precip Type  Temperature (C)  ...  Loud Cover  Pressure (millibars)\n",
              "0     0.354529        -0.257950  ...         NaN              0.102151\n",
              "1     0.354529        -0.270140  ...         NaN              0.106414\n",
              "2     0.354529        -0.267818  ...         NaN              0.109058\n",
              "3     0.354529        -0.381592  ...         NaN              0.113065\n",
              "4     0.354529        -0.332831  ...         NaN              0.113918\n",
              "\n",
              "[5 rows x 9 columns]"
            ]
          },
          "metadata": {
            "tags": []
          },
          "execution_count": 12
        }
      ]
    },
    {
      "cell_type": "code",
      "metadata": {
        "id": "MkYj41jUzX2a"
      },
      "source": [
        "weatherHistoryDataSetStandardized.drop(columns=['Loud Cover'], inplace=True)"
      ],
      "execution_count": null,
      "outputs": []
    },
    {
      "cell_type": "code",
      "metadata": {
        "colab": {
          "base_uri": "https://localhost:8080/",
          "height": 212
        },
        "id": "HyKSFQyb3c1c",
        "outputId": "e6cd4f17-c30c-41c3-9915-dd7d98c5718d"
      },
      "source": [
        "weatherHistoryDataSetStandardized.head()"
      ],
      "execution_count": null,
      "outputs": [
        {
          "output_type": "execute_result",
          "data": {
            "text/html": [
              "<div>\n",
              "<style scoped>\n",
              "    .dataframe tbody tr th:only-of-type {\n",
              "        vertical-align: middle;\n",
              "    }\n",
              "\n",
              "    .dataframe tbody tr th {\n",
              "        vertical-align: top;\n",
              "    }\n",
              "\n",
              "    .dataframe thead th {\n",
              "        text-align: right;\n",
              "    }\n",
              "</style>\n",
              "<table border=\"1\" class=\"dataframe\">\n",
              "  <thead>\n",
              "    <tr style=\"text-align: right;\">\n",
              "      <th></th>\n",
              "      <th>Precip Type</th>\n",
              "      <th>Temperature (C)</th>\n",
              "      <th>Apparent Temperature (C)</th>\n",
              "      <th>Humidity</th>\n",
              "      <th>Wind Speed (km/h)</th>\n",
              "      <th>Wind Bearing (degrees)</th>\n",
              "      <th>Visibility (km)</th>\n",
              "      <th>Pressure (millibars)</th>\n",
              "    </tr>\n",
              "  </thead>\n",
              "  <tbody>\n",
              "    <tr>\n",
              "      <th>0</th>\n",
              "      <td>0.354529</td>\n",
              "      <td>-0.257950</td>\n",
              "      <td>-0.324100</td>\n",
              "      <td>0.792744</td>\n",
              "      <td>0.478962</td>\n",
              "      <td>0.591154</td>\n",
              "      <td>1.309101</td>\n",
              "      <td>0.102151</td>\n",
              "    </tr>\n",
              "    <tr>\n",
              "      <th>1</th>\n",
              "      <td>0.354529</td>\n",
              "      <td>-0.270140</td>\n",
              "      <td>-0.339132</td>\n",
              "      <td>0.639467</td>\n",
              "      <td>0.499899</td>\n",
              "      <td>0.665652</td>\n",
              "      <td>1.309101</td>\n",
              "      <td>0.106414</td>\n",
              "    </tr>\n",
              "    <tr>\n",
              "      <th>2</th>\n",
              "      <td>0.354529</td>\n",
              "      <td>-0.267818</td>\n",
              "      <td>-0.138531</td>\n",
              "      <td>0.792744</td>\n",
              "      <td>-0.993615</td>\n",
              "      <td>0.153477</td>\n",
              "      <td>1.100800</td>\n",
              "      <td>0.109058</td>\n",
              "    </tr>\n",
              "    <tr>\n",
              "      <th>3</th>\n",
              "      <td>0.354529</td>\n",
              "      <td>-0.381592</td>\n",
              "      <td>-0.458870</td>\n",
              "      <td>0.486190</td>\n",
              "      <td>0.476635</td>\n",
              "      <td>0.758774</td>\n",
              "      <td>1.309101</td>\n",
              "      <td>0.113065</td>\n",
              "    </tr>\n",
              "    <tr>\n",
              "      <th>4</th>\n",
              "      <td>0.354529</td>\n",
              "      <td>-0.332831</td>\n",
              "      <td>-0.362458</td>\n",
              "      <td>0.486190</td>\n",
              "      <td>0.034630</td>\n",
              "      <td>0.665652</td>\n",
              "      <td>1.309101</td>\n",
              "      <td>0.113918</td>\n",
              "    </tr>\n",
              "  </tbody>\n",
              "</table>\n",
              "</div>"
            ],
            "text/plain": [
              "   Precip Type  Temperature (C)  ...  Visibility (km)  Pressure (millibars)\n",
              "0     0.354529        -0.257950  ...         1.309101              0.102151\n",
              "1     0.354529        -0.270140  ...         1.309101              0.106414\n",
              "2     0.354529        -0.267818  ...         1.100800              0.109058\n",
              "3     0.354529        -0.381592  ...         1.309101              0.113065\n",
              "4     0.354529        -0.332831  ...         1.309101              0.113918\n",
              "\n",
              "[5 rows x 8 columns]"
            ]
          },
          "metadata": {
            "tags": []
          },
          "execution_count": 14
        }
      ]
    },
    {
      "cell_type": "code",
      "metadata": {
        "id": "hvtJAf7fwdJW"
      },
      "source": [
        ""
      ],
      "execution_count": null,
      "outputs": []
    },
    {
      "cell_type": "code",
      "metadata": {
        "id": "6XLSiU7k4EaS"
      },
      "source": [
        "import numpy as np"
      ],
      "execution_count": null,
      "outputs": []
    },
    {
      "cell_type": "code",
      "metadata": {
        "colab": {
          "base_uri": "https://localhost:8080/"
        },
        "id": "0hbX-GTw7hS-",
        "outputId": "1d5d5244-107e-4980-f276-1b1f8a8df043"
      },
      "source": [
        "weatherHistoryDataSetStandardized.shape"
      ],
      "execution_count": null,
      "outputs": [
        {
          "output_type": "execute_result",
          "data": {
            "text/plain": [
              "(95936, 8)"
            ]
          },
          "metadata": {
            "tags": []
          },
          "execution_count": 16
        }
      ]
    },
    {
      "cell_type": "code",
      "metadata": {
        "colab": {
          "base_uri": "https://localhost:8080/"
        },
        "id": "FI8JfuKt7_08",
        "outputId": "14b43da5-b566-478d-f175-659fae24dd3f"
      },
      "source": [
        "weatherHistoryDataSetStandardized.columns"
      ],
      "execution_count": null,
      "outputs": [
        {
          "output_type": "execute_result",
          "data": {
            "text/plain": [
              "Index(['Precip Type', 'Temperature (C)', 'Apparent Temperature (C)',\n",
              "       'Humidity', 'Wind Speed (km/h)', 'Wind Bearing (degrees)',\n",
              "       'Visibility (km)', 'Pressure (millibars)'],\n",
              "      dtype='object')"
            ]
          },
          "metadata": {
            "tags": []
          },
          "execution_count": 17
        }
      ]
    },
    {
      "cell_type": "code",
      "metadata": {
        "colab": {
          "base_uri": "https://localhost:8080/",
          "height": 195
        },
        "id": "-FCVz6QD7zze",
        "outputId": "1e0fb020-eafa-45df-de32-22c630fa4b5d"
      },
      "source": [
        "Xd = weatherHistoryDataSetStandardized.drop(columns=['Temperature (C)'])\n",
        "Xd.insert(loc=0, column='X0', value=1)\n",
        "Xd.head()"
      ],
      "execution_count": null,
      "outputs": [
        {
          "output_type": "execute_result",
          "data": {
            "text/html": [
              "<div>\n",
              "<style scoped>\n",
              "    .dataframe tbody tr th:only-of-type {\n",
              "        vertical-align: middle;\n",
              "    }\n",
              "\n",
              "    .dataframe tbody tr th {\n",
              "        vertical-align: top;\n",
              "    }\n",
              "\n",
              "    .dataframe thead th {\n",
              "        text-align: right;\n",
              "    }\n",
              "</style>\n",
              "<table border=\"1\" class=\"dataframe\">\n",
              "  <thead>\n",
              "    <tr style=\"text-align: right;\">\n",
              "      <th></th>\n",
              "      <th>X0</th>\n",
              "      <th>Precip Type</th>\n",
              "      <th>Apparent Temperature (C)</th>\n",
              "      <th>Humidity</th>\n",
              "      <th>Wind Speed (km/h)</th>\n",
              "      <th>Wind Bearing (degrees)</th>\n",
              "      <th>Visibility (km)</th>\n",
              "      <th>Pressure (millibars)</th>\n",
              "    </tr>\n",
              "  </thead>\n",
              "  <tbody>\n",
              "    <tr>\n",
              "      <th>0</th>\n",
              "      <td>1</td>\n",
              "      <td>0.354529</td>\n",
              "      <td>-0.324100</td>\n",
              "      <td>0.792744</td>\n",
              "      <td>0.478962</td>\n",
              "      <td>0.591154</td>\n",
              "      <td>1.309101</td>\n",
              "      <td>0.102151</td>\n",
              "    </tr>\n",
              "    <tr>\n",
              "      <th>1</th>\n",
              "      <td>1</td>\n",
              "      <td>0.354529</td>\n",
              "      <td>-0.339132</td>\n",
              "      <td>0.639467</td>\n",
              "      <td>0.499899</td>\n",
              "      <td>0.665652</td>\n",
              "      <td>1.309101</td>\n",
              "      <td>0.106414</td>\n",
              "    </tr>\n",
              "    <tr>\n",
              "      <th>2</th>\n",
              "      <td>1</td>\n",
              "      <td>0.354529</td>\n",
              "      <td>-0.138531</td>\n",
              "      <td>0.792744</td>\n",
              "      <td>-0.993615</td>\n",
              "      <td>0.153477</td>\n",
              "      <td>1.100800</td>\n",
              "      <td>0.109058</td>\n",
              "    </tr>\n",
              "    <tr>\n",
              "      <th>3</th>\n",
              "      <td>1</td>\n",
              "      <td>0.354529</td>\n",
              "      <td>-0.458870</td>\n",
              "      <td>0.486190</td>\n",
              "      <td>0.476635</td>\n",
              "      <td>0.758774</td>\n",
              "      <td>1.309101</td>\n",
              "      <td>0.113065</td>\n",
              "    </tr>\n",
              "    <tr>\n",
              "      <th>4</th>\n",
              "      <td>1</td>\n",
              "      <td>0.354529</td>\n",
              "      <td>-0.362458</td>\n",
              "      <td>0.486190</td>\n",
              "      <td>0.034630</td>\n",
              "      <td>0.665652</td>\n",
              "      <td>1.309101</td>\n",
              "      <td>0.113918</td>\n",
              "    </tr>\n",
              "  </tbody>\n",
              "</table>\n",
              "</div>"
            ],
            "text/plain": [
              "   X0  Precip Type  ...  Visibility (km)  Pressure (millibars)\n",
              "0   1     0.354529  ...         1.309101              0.102151\n",
              "1   1     0.354529  ...         1.309101              0.106414\n",
              "2   1     0.354529  ...         1.100800              0.109058\n",
              "3   1     0.354529  ...         1.309101              0.113065\n",
              "4   1     0.354529  ...         1.309101              0.113918\n",
              "\n",
              "[5 rows x 8 columns]"
            ]
          },
          "metadata": {
            "tags": []
          },
          "execution_count": 18
        }
      ]
    },
    {
      "cell_type": "code",
      "metadata": {
        "id": "zcw5TzaY82Il"
      },
      "source": [
        "X = Xd.values\n",
        "Y = weatherHistoryDataSetStandardized['Temperature (C)'].values"
      ],
      "execution_count": null,
      "outputs": []
    },
    {
      "cell_type": "code",
      "metadata": {
        "id": "ZLLbBFNcMcjP"
      },
      "source": [
        "train_X = X[1000:3000]\n",
        "train_Y = Y[1000:3000]\n",
        "test_X = X[3000:8000]\n",
        "test_Y = Y[3000:8000]"
      ],
      "execution_count": null,
      "outputs": []
    },
    {
      "cell_type": "code",
      "metadata": {
        "colab": {
          "base_uri": "https://localhost:8080/"
        },
        "id": "WsRnYPMSMrBM",
        "outputId": "706aebd0-3df9-4378-86b2-b77654c159d5"
      },
      "source": [
        "print(train_X.shape)\n",
        "print(train_Y.shape)\n",
        "print(test_X.shape)\n",
        "print(test_Y.shape)"
      ],
      "execution_count": null,
      "outputs": [
        {
          "output_type": "stream",
          "text": [
            "(2000, 8)\n",
            "(2000,)\n",
            "(5000, 8)\n",
            "(5000,)\n"
          ],
          "name": "stdout"
        }
      ]
    },
    {
      "cell_type": "code",
      "metadata": {
        "id": "_Uyv4P62U2B4"
      },
      "source": [
        "train_Y = train_Y.reshape(train_X.shape[0], 1)\n",
        "test_Y = test_Y.reshape(test_Y.shape[0], 1)"
      ],
      "execution_count": null,
      "outputs": []
    },
    {
      "cell_type": "code",
      "metadata": {
        "id": "7VemcRSLM_W7"
      },
      "source": [
        "m = train_X.shape[0]\n",
        "n = train_X.shape[1]"
      ],
      "execution_count": null,
      "outputs": []
    },
    {
      "cell_type": "code",
      "metadata": {
        "id": "bhfqurmcNeSR"
      },
      "source": [
        "theta = np.zeros(n).reshape(n, 1)"
      ],
      "execution_count": null,
      "outputs": []
    },
    {
      "cell_type": "code",
      "metadata": {
        "colab": {
          "base_uri": "https://localhost:8080/"
        },
        "id": "8A-bkc2ZNjkR",
        "outputId": "d3998203-6285-428b-fdba-0200c37fbbdb"
      },
      "source": [
        "theta.shape"
      ],
      "execution_count": null,
      "outputs": [
        {
          "output_type": "execute_result",
          "data": {
            "text/plain": [
              "(8, 1)"
            ]
          },
          "metadata": {
            "tags": []
          },
          "execution_count": 25
        }
      ]
    },
    {
      "cell_type": "code",
      "metadata": {
        "id": "QB-5AE5XNlSp"
      },
      "source": [
        "hThetaX = train_X@theta"
      ],
      "execution_count": null,
      "outputs": []
    },
    {
      "cell_type": "code",
      "metadata": {
        "colab": {
          "base_uri": "https://localhost:8080/"
        },
        "id": "8hWQn6lkVot1",
        "outputId": "ae6dfae9-8671-46bc-eb69-2a821aa757bf"
      },
      "source": [
        "hThetaX.shape"
      ],
      "execution_count": null,
      "outputs": [
        {
          "output_type": "execute_result",
          "data": {
            "text/plain": [
              "(2000, 1)"
            ]
          },
          "metadata": {
            "tags": []
          },
          "execution_count": 27
        }
      ]
    },
    {
      "cell_type": "code",
      "metadata": {
        "id": "Iy7k8_AaV3ju"
      },
      "source": [
        "jTheta = (1/(2*m))*(np.transpose(train_X@theta-train_Y)@(train_X@theta-train_Y))"
      ],
      "execution_count": null,
      "outputs": []
    },
    {
      "cell_type": "code",
      "metadata": {
        "colab": {
          "base_uri": "https://localhost:8080/"
        },
        "id": "VCxmiYG0ZAtV",
        "outputId": "1265e3b9-d8c5-4830-b37b-b09e65ff44c3"
      },
      "source": [
        "jTheta"
      ],
      "execution_count": null,
      "outputs": [
        {
          "output_type": "execute_result",
          "data": {
            "text/plain": [
              "array([[0.65377527]])"
            ]
          },
          "metadata": {
            "tags": []
          },
          "execution_count": 29
        }
      ]
    },
    {
      "cell_type": "code",
      "metadata": {
        "id": "uULr7i1Rwudb"
      },
      "source": [
        "# partial derivative of jTheta wrt theta[j] list\n",
        "# theta[j][0] += alpha * (1/m)*np.transpose(X[:, j])*(hThetaX-Y)\n",
        "\n",
        "# vectorized implementation\n",
        "# theta -= alpha * (1/m) * np.transpose(train_X) @ (train_X@theta-train_Y)"
      ],
      "execution_count": null,
      "outputs": []
    },
    {
      "cell_type": "code",
      "metadata": {
        "colab": {
          "base_uri": "https://localhost:8080/"
        },
        "id": "eWBQm0xmyGTt",
        "outputId": "7b6fd8d5-ddf1-4366-e6f9-3d6e4990f223"
      },
      "source": [
        "%%time\n",
        "# gradient descent X, Y, theta, alpha, epoch\n",
        "alpha = 0.0005\n",
        "epoch = 10000\n",
        "\n",
        "listOfJTheta = []\n",
        "\n",
        "for _ in range(epoch):\n",
        "\n",
        "  jTheta = (1/(2*m))*(np.transpose(train_X@theta-train_Y)@(train_X@theta-train_Y))\n",
        "\n",
        "  theta = theta - alpha * (1/m) * np.transpose(train_X) @ (train_X@theta-train_Y)\n",
        "\n",
        "  listOfJTheta.append(jTheta)"
      ],
      "execution_count": null,
      "outputs": [
        {
          "output_type": "stream",
          "text": [
            "CPU times: user 931 ms, sys: 723 ms, total: 1.65 s\n",
            "Wall time: 874 ms\n"
          ],
          "name": "stdout"
        }
      ]
    },
    {
      "cell_type": "code",
      "metadata": {
        "colab": {
          "base_uri": "https://localhost:8080/",
          "height": 265
        },
        "id": "8RAneLW5zJX0",
        "outputId": "7d3a8a72-79ea-494d-82d5-8c632a3da1e7"
      },
      "source": [
        "plt.scatter(x=range(epoch), y=listOfJTheta)\n",
        "plt.show()"
      ],
      "execution_count": null,
      "outputs": [
        {
          "output_type": "display_data",
          "data": {
            "image/png": "[encoded data removed]",
            "text/plain": [
              "<Figure size 432x288 with 1 Axes>"
            ]
          },
          "metadata": {
            "tags": [],
            "needs_background": "light"
          }
        }
      ]
    },
    {
      "cell_type": "code",
      "metadata": {
        "id": "DiBKNSSMzVc5"
      },
      "source": [
        "def testMultivariateLR(test_X, test_Y, theta):\n",
        "  predicted_Y = test_X@theta\n",
        "  \n",
        "  result = np.sum(np.abs((predicted_Y - test_Y)/test_Y))\n",
        "  result /= test_Y.shape[0]\n",
        "  result *= 100\n",
        "  accuracy = 100 - result\n",
        "\n",
        "  return accuracy"
      ],
      "execution_count": null,
      "outputs": []
    },
    {
      "cell_type": "code",
      "metadata": {
        "id": "ou7gEvi00hkB"
      },
      "source": [
        "accuracy = testMultivariateLR(test_X, test_Y, theta)"
      ],
      "execution_count": null,
      "outputs": []
    },
    {
      "cell_type": "code",
      "metadata": {
        "id": "xz3HgDKu0qEf",
        "colab": {
          "base_uri": "https://localhost:8080/"
        },
        "outputId": "216bcde4-7789-49e7-9871-aefe63742bcf"
      },
      "source": [
        "print(accuracy)"
      ],
      "execution_count": null,
      "outputs": [
        {
          "output_type": "stream",
          "text": [
            "63.39330939705699\n"
          ],
          "name": "stdout"
        }
      ]
    },
    {
      "cell_type": "code",
      "metadata": {
        "id": "_ytCVp9e1ltI"
      },
      "source": [
        "# line_X = test_X[:, 1:2]\n",
        "# line_Y = test_Y[:,:]\n",
        "# b0 = theta[0:1, :]\n",
        "# b1 = theta[1:2, :]\n",
        "# plt.scatter(x=line_X, y=line_Y, color='#1f77b4')\n",
        "# plt.plot(line_X,b0+b1*line_X, 'r')\n",
        "# plt.xlabel('Precip Type')\n",
        "# plt.ylabel('Temprature (C)')"
      ],
      "execution_count": null,
      "outputs": []
    }
  ]
}